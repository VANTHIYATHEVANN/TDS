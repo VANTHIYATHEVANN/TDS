{
  "nbformat": 4,
  "nbformat_minor": 0,
  "metadata": {
    "colab": {
      "provenance": []
    },
    "kernelspec": {
      "name": "python3",
      "display_name": "Python 3"
    },
    "language_info": {
      "name": "python"
    }
  },
  "cells": [
    {
      "cell_type": "code",
      "execution_count": null,
      "metadata": {
        "id": "Ugxmv9hHkJUR"
      },
      "outputs": [],
      "source": [
        "from google.colab import drive\n",
        "drive.mount('/content/drive')\n",
        "!ls \"/content/drive/My Drive/\""
      ]
    },
    {
      "cell_type": "code",
      "source": [
        "import xarray as xr\n",
        "#import matplotlib.pyplot as plt\n",
        "import pandas as pd\n",
        "import numpy as np\n",
        "import matplotlib.pyplot as plt\n",
        "import os\n",
        "from sklearn.linear_model import LinearRegression\n",
        "from sklearn.metrics import r2_score\n",
        "from scipy.stats import chisquare\n",
        "import seaborn as sns\n",
        "%matplotlib inline"
      ],
      "metadata": {
        "id": "uOEboa14kO00"
      },
      "execution_count": 2,
      "outputs": []
    },
    {
      "cell_type": "code",
      "source": [
        "import os\n",
        "os.chdir(\"/content/drive/MyDrive/DATA/TDS\")"
      ],
      "metadata": {
        "id": "gXWcoB3MkZ6_"
      },
      "execution_count": 4,
      "outputs": []
    },
    {
      "cell_type": "code",
      "source": [
        "dataset=pd.read_csv('/content/drive/MyDrive/DATA/TDS/book_tags.csv')"
      ],
      "metadata": {
        "id": "7MGHVrknkibG"
      },
      "execution_count": 6,
      "outputs": []
    },
    {
      "cell_type": "code",
      "source": [
        "dataset"
      ],
      "metadata": {
        "id": "MRzs0GXako7m",
        "outputId": "d581f13e-b680-42b9-ba33-d6ca0e0793fb",
        "colab": {
          "base_uri": "https://localhost:8080/",
          "height": 423
        }
      },
      "execution_count": 7,
      "outputs": [
        {
          "output_type": "execute_result",
          "data": {
            "text/plain": [
              "        goodreads_book_id  tag_id   count\n",
              "0                       1   30574  167697\n",
              "1                       1   11305   37174\n",
              "2                       1   11557   34173\n",
              "3                       1    8717   12986\n",
              "4                       1   33114   12716\n",
              "...                   ...     ...     ...\n",
              "130495           31538647    5775       6\n",
              "130496           31538647    7924       6\n",
              "130497           31538647    5025       6\n",
              "130498           31538647   22714       6\n",
              "130499           31538647     902       6\n",
              "\n",
              "[130500 rows x 3 columns]"
            ],
            "text/html": [
              "\n",
              "\n",
              "  <div id=\"df-c60a5494-52b9-49f6-8daf-e8288a38f72b\">\n",
              "    <div class=\"colab-df-container\">\n",
              "      <div>\n",
              "<style scoped>\n",
              "    .dataframe tbody tr th:only-of-type {\n",
              "        vertical-align: middle;\n",
              "    }\n",
              "\n",
              "    .dataframe tbody tr th {\n",
              "        vertical-align: top;\n",
              "    }\n",
              "\n",
              "    .dataframe thead th {\n",
              "        text-align: right;\n",
              "    }\n",
              "</style>\n",
              "<table border=\"1\" class=\"dataframe\">\n",
              "  <thead>\n",
              "    <tr style=\"text-align: right;\">\n",
              "      <th></th>\n",
              "      <th>goodreads_book_id</th>\n",
              "      <th>tag_id</th>\n",
              "      <th>count</th>\n",
              "    </tr>\n",
              "  </thead>\n",
              "  <tbody>\n",
              "    <tr>\n",
              "      <th>0</th>\n",
              "      <td>1</td>\n",
              "      <td>30574</td>\n",
              "      <td>167697</td>\n",
              "    </tr>\n",
              "    <tr>\n",
              "      <th>1</th>\n",
              "      <td>1</td>\n",
              "      <td>11305</td>\n",
              "      <td>37174</td>\n",
              "    </tr>\n",
              "    <tr>\n",
              "      <th>2</th>\n",
              "      <td>1</td>\n",
              "      <td>11557</td>\n",
              "      <td>34173</td>\n",
              "    </tr>\n",
              "    <tr>\n",
              "      <th>3</th>\n",
              "      <td>1</td>\n",
              "      <td>8717</td>\n",
              "      <td>12986</td>\n",
              "    </tr>\n",
              "    <tr>\n",
              "      <th>4</th>\n",
              "      <td>1</td>\n",
              "      <td>33114</td>\n",
              "      <td>12716</td>\n",
              "    </tr>\n",
              "    <tr>\n",
              "      <th>...</th>\n",
              "      <td>...</td>\n",
              "      <td>...</td>\n",
              "      <td>...</td>\n",
              "    </tr>\n",
              "    <tr>\n",
              "      <th>130495</th>\n",
              "      <td>31538647</td>\n",
              "      <td>5775</td>\n",
              "      <td>6</td>\n",
              "    </tr>\n",
              "    <tr>\n",
              "      <th>130496</th>\n",
              "      <td>31538647</td>\n",
              "      <td>7924</td>\n",
              "      <td>6</td>\n",
              "    </tr>\n",
              "    <tr>\n",
              "      <th>130497</th>\n",
              "      <td>31538647</td>\n",
              "      <td>5025</td>\n",
              "      <td>6</td>\n",
              "    </tr>\n",
              "    <tr>\n",
              "      <th>130498</th>\n",
              "      <td>31538647</td>\n",
              "      <td>22714</td>\n",
              "      <td>6</td>\n",
              "    </tr>\n",
              "    <tr>\n",
              "      <th>130499</th>\n",
              "      <td>31538647</td>\n",
              "      <td>902</td>\n",
              "      <td>6</td>\n",
              "    </tr>\n",
              "  </tbody>\n",
              "</table>\n",
              "<p>130500 rows × 3 columns</p>\n",
              "</div>\n",
              "      <button class=\"colab-df-convert\" onclick=\"convertToInteractive('df-c60a5494-52b9-49f6-8daf-e8288a38f72b')\"\n",
              "              title=\"Convert this dataframe to an interactive table.\"\n",
              "              style=\"display:none;\">\n",
              "\n",
              "  <svg xmlns=\"http://www.w3.org/2000/svg\" height=\"24px\"viewBox=\"0 0 24 24\"\n",
              "       width=\"24px\">\n",
              "    <path d=\"M0 0h24v24H0V0z\" fill=\"none\"/>\n",
              "    <path d=\"M18.56 5.44l.94 2.06.94-2.06 2.06-.94-2.06-.94-.94-2.06-.94 2.06-2.06.94zm-11 1L8.5 8.5l.94-2.06 2.06-.94-2.06-.94L8.5 2.5l-.94 2.06-2.06.94zm10 10l.94 2.06.94-2.06 2.06-.94-2.06-.94-.94-2.06-.94 2.06-2.06.94z\"/><path d=\"M17.41 7.96l-1.37-1.37c-.4-.4-.92-.59-1.43-.59-.52 0-1.04.2-1.43.59L10.3 9.45l-7.72 7.72c-.78.78-.78 2.05 0 2.83L4 21.41c.39.39.9.59 1.41.59.51 0 1.02-.2 1.41-.59l7.78-7.78 2.81-2.81c.8-.78.8-2.07 0-2.86zM5.41 20L4 18.59l7.72-7.72 1.47 1.35L5.41 20z\"/>\n",
              "  </svg>\n",
              "      </button>\n",
              "\n",
              "\n",
              "\n",
              "    <div id=\"df-fef7b936-c9db-4d1f-a905-9d2adcdc2bbf\">\n",
              "      <button class=\"colab-df-quickchart\" onclick=\"quickchart('df-fef7b936-c9db-4d1f-a905-9d2adcdc2bbf')\"\n",
              "              title=\"Suggest charts.\"\n",
              "              style=\"display:none;\">\n",
              "\n",
              "<svg xmlns=\"http://www.w3.org/2000/svg\" height=\"24px\"viewBox=\"0 0 24 24\"\n",
              "     width=\"24px\">\n",
              "    <g>\n",
              "        <path d=\"M19 3H5c-1.1 0-2 .9-2 2v14c0 1.1.9 2 2 2h14c1.1 0 2-.9 2-2V5c0-1.1-.9-2-2-2zM9 17H7v-7h2v7zm4 0h-2V7h2v10zm4 0h-2v-4h2v4z\"/>\n",
              "    </g>\n",
              "</svg>\n",
              "      </button>\n",
              "    </div>\n",
              "\n",
              "<style>\n",
              "  .colab-df-quickchart {\n",
              "    background-color: #E8F0FE;\n",
              "    border: none;\n",
              "    border-radius: 50%;\n",
              "    cursor: pointer;\n",
              "    display: none;\n",
              "    fill: #1967D2;\n",
              "    height: 32px;\n",
              "    padding: 0 0 0 0;\n",
              "    width: 32px;\n",
              "  }\n",
              "\n",
              "  .colab-df-quickchart:hover {\n",
              "    background-color: #E2EBFA;\n",
              "    box-shadow: 0px 1px 2px rgba(60, 64, 67, 0.3), 0px 1px 3px 1px rgba(60, 64, 67, 0.15);\n",
              "    fill: #174EA6;\n",
              "  }\n",
              "\n",
              "  [theme=dark] .colab-df-quickchart {\n",
              "    background-color: #3B4455;\n",
              "    fill: #D2E3FC;\n",
              "  }\n",
              "\n",
              "  [theme=dark] .colab-df-quickchart:hover {\n",
              "    background-color: #434B5C;\n",
              "    box-shadow: 0px 1px 3px 1px rgba(0, 0, 0, 0.15);\n",
              "    filter: drop-shadow(0px 1px 2px rgba(0, 0, 0, 0.3));\n",
              "    fill: #FFFFFF;\n",
              "  }\n",
              "</style>\n",
              "\n",
              "    <script>\n",
              "      async function quickchart(key) {\n",
              "        const containerElement = document.querySelector('#' + key);\n",
              "        const charts = await google.colab.kernel.invokeFunction(\n",
              "            'suggestCharts', [key], {});\n",
              "      }\n",
              "    </script>\n",
              "\n",
              "      <script>\n",
              "\n",
              "function displayQuickchartButton(domScope) {\n",
              "  let quickchartButtonEl =\n",
              "    domScope.querySelector('#df-fef7b936-c9db-4d1f-a905-9d2adcdc2bbf button.colab-df-quickchart');\n",
              "  quickchartButtonEl.style.display =\n",
              "    google.colab.kernel.accessAllowed ? 'block' : 'none';\n",
              "}\n",
              "\n",
              "        displayQuickchartButton(document);\n",
              "      </script>\n",
              "      <style>\n",
              "    .colab-df-container {\n",
              "      display:flex;\n",
              "      flex-wrap:wrap;\n",
              "      gap: 12px;\n",
              "    }\n",
              "\n",
              "    .colab-df-convert {\n",
              "      background-color: #E8F0FE;\n",
              "      border: none;\n",
              "      border-radius: 50%;\n",
              "      cursor: pointer;\n",
              "      display: none;\n",
              "      fill: #1967D2;\n",
              "      height: 32px;\n",
              "      padding: 0 0 0 0;\n",
              "      width: 32px;\n",
              "    }\n",
              "\n",
              "    .colab-df-convert:hover {\n",
              "      background-color: #E2EBFA;\n",
              "      box-shadow: 0px 1px 2px rgba(60, 64, 67, 0.3), 0px 1px 3px 1px rgba(60, 64, 67, 0.15);\n",
              "      fill: #174EA6;\n",
              "    }\n",
              "\n",
              "    [theme=dark] .colab-df-convert {\n",
              "      background-color: #3B4455;\n",
              "      fill: #D2E3FC;\n",
              "    }\n",
              "\n",
              "    [theme=dark] .colab-df-convert:hover {\n",
              "      background-color: #434B5C;\n",
              "      box-shadow: 0px 1px 3px 1px rgba(0, 0, 0, 0.15);\n",
              "      filter: drop-shadow(0px 1px 2px rgba(0, 0, 0, 0.3));\n",
              "      fill: #FFFFFF;\n",
              "    }\n",
              "  </style>\n",
              "\n",
              "      <script>\n",
              "        const buttonEl =\n",
              "          document.querySelector('#df-c60a5494-52b9-49f6-8daf-e8288a38f72b button.colab-df-convert');\n",
              "        buttonEl.style.display =\n",
              "          google.colab.kernel.accessAllowed ? 'block' : 'none';\n",
              "\n",
              "        async function convertToInteractive(key) {\n",
              "          const element = document.querySelector('#df-c60a5494-52b9-49f6-8daf-e8288a38f72b');\n",
              "          const dataTable =\n",
              "            await google.colab.kernel.invokeFunction('convertToInteractive',\n",
              "                                                     [key], {});\n",
              "          if (!dataTable) return;\n",
              "\n",
              "          const docLinkHtml = 'Like what you see? Visit the ' +\n",
              "            '<a target=\"_blank\" href=https://colab.research.google.com/notebooks/data_table.ipynb>data table notebook</a>'\n",
              "            + ' to learn more about interactive tables.';\n",
              "          element.innerHTML = '';\n",
              "          dataTable['output_type'] = 'display_data';\n",
              "          await google.colab.output.renderOutput(dataTable, element);\n",
              "          const docLink = document.createElement('div');\n",
              "          docLink.innerHTML = docLinkHtml;\n",
              "          element.appendChild(docLink);\n",
              "        }\n",
              "      </script>\n",
              "    </div>\n",
              "  </div>\n"
            ]
          },
          "metadata": {},
          "execution_count": 7
        }
      ]
    },
    {
      "cell_type": "markdown",
      "source": [
        "Q11:"
      ],
      "metadata": {
        "id": "C-TKFGqO0h45"
      }
    },
    {
      "cell_type": "code",
      "source": [
        "unique_tags_count = len(dataset['tag_id'].unique())\n",
        "\n",
        "print(\"Number of unique tags:\", unique_tags_count)"
      ],
      "metadata": {
        "colab": {
          "base_uri": "https://localhost:8080/"
        },
        "id": "LgdxIUCLzV5Y",
        "outputId": "00957976-56a4-4165-e250-e24d503729d8"
      },
      "execution_count": 8,
      "outputs": [
        {
          "output_type": "stream",
          "name": "stdout",
          "text": [
            "Number of unique tags: 7067\n"
          ]
        }
      ]
    },
    {
      "cell_type": "markdown",
      "source": [
        "Q6:"
      ],
      "metadata": {
        "id": "YG0-1CdM0kUf"
      }
    },
    {
      "cell_type": "code",
      "source": [
        "import pandas as pd\n",
        "\n",
        "# Load the datasets\n",
        "book_tags = pd.read_csv('book_tags.csv')\n",
        "books = pd.read_csv('books.csv')\n",
        "\n",
        "# Join the datasets on goodreads_book_id\n",
        "merged_data = pd.merge(book_tags, books, on='goodreads_book_id')\n",
        "\n",
        "# Calculate the total count of tags for each book\n",
        "tag_counts = merged_data.groupby('title')['count'].sum()\n",
        "\n",
        "# Find the book with the maximum tag count\n",
        "max_tag_count = tag_counts.max()\n",
        "most_tagged_books = tag_counts[tag_counts == max_tag_count]\n",
        "\n",
        "# Print the result\n",
        "print(\"Book(s) with the most tag counts:\")\n",
        "for book_title in most_tagged_books.index:\n",
        "    print(book_title)\n"
      ],
      "metadata": {
        "colab": {
          "base_uri": "https://localhost:8080/"
        },
        "id": "wtYSlcGp0jir",
        "outputId": "b7641089-8a35-4f15-f750-ab19336ca18c"
      },
      "execution_count": 10,
      "outputs": [
        {
          "output_type": "stream",
          "name": "stdout",
          "text": [
            "Book(s) with the most tag counts:\n",
            "Harry Potter and the Sorcerer's Stone (Harry Potter, #1)\n"
          ]
        }
      ]
    },
    {
      "cell_type": "markdown",
      "source": [
        "Q8:"
      ],
      "metadata": {
        "id": "pz8a5bZs1I7j"
      }
    },
    {
      "cell_type": "code",
      "source": [
        "import pandas as pd\n",
        "\n",
        "# Load the dataset\n",
        "book_tags = pd.read_csv('book_tags.csv')\n",
        "\n",
        "# Group by tag_id and calculate the count of unique goodreads_book_id for each tag\n",
        "tag_counts = book_tags.groupby('tag_id')['goodreads_book_id'].nunique()\n",
        "\n",
        "# Find the tag(s) with the lowest count\n",
        "min_tag_count = tag_counts.min()\n",
        "least_used_tags = tag_counts[tag_counts == min_tag_count]\n",
        "\n",
        "# Find the tag with the least numerical value\n",
        "least_used_tag_id = least_used_tags.idxmin()\n",
        "\n",
        "# Print the result\n",
        "print(\"Least used tag with the least numerical value (tag_id):\", least_used_tag_id)\n"
      ],
      "metadata": {
        "colab": {
          "base_uri": "https://localhost:8080/"
        },
        "id": "s0kvl1ZH1IUF",
        "outputId": "e139dfdd-9ff8-48cb-8120-2d58f7595485"
      },
      "execution_count": 12,
      "outputs": [
        {
          "output_type": "stream",
          "name": "stdout",
          "text": [
            "Least used tag with the least numerical value (tag_id): 0\n"
          ]
        }
      ]
    },
    {
      "cell_type": "markdown",
      "source": [
        "Q1:"
      ],
      "metadata": {
        "id": "Gu7lpkpH1_LX"
      }
    },
    {
      "cell_type": "code",
      "source": [
        "import pandas as pd\n",
        "\n",
        "# Load the dataset\n",
        "books = pd.read_csv('books.csv')\n",
        "\n",
        "# Count the number of books without an original title\n",
        "books_without_original_title = books['original_title'].isnull().sum()\n",
        "\n",
        "# Print the result\n",
        "print(\"Number of books without an original title:\", books_without_original_title)\n"
      ],
      "metadata": {
        "colab": {
          "base_uri": "https://localhost:8080/"
        },
        "id": "a_WmBanL1-nV",
        "outputId": "d8326715-6be4-474a-c2f0-e560bec18edb"
      },
      "execution_count": 13,
      "outputs": [
        {
          "output_type": "stream",
          "name": "stdout",
          "text": [
            "Number of books without an original title: 33\n"
          ]
        }
      ]
    },
    {
      "cell_type": "markdown",
      "source": [
        "Q5:"
      ],
      "metadata": {
        "id": "dsXjLUfk2qfC"
      }
    },
    {
      "cell_type": "code",
      "source": [
        "import pandas as pd\n",
        "\n",
        "# Load the dataset\n",
        "book_tags = pd.read_csv('book_tags.csv')\n",
        "\n",
        "# Group by tag_id and calculate the count of occurrences for each tag\n",
        "tag_counts = book_tags.groupby('tag_id')['goodreads_book_id'].count()\n",
        "\n",
        "# Find the tag(s) with the highest count\n",
        "max_tag_count = tag_counts.max()\n",
        "most_frequent_tags = tag_counts[tag_counts == max_tag_count]\n",
        "\n",
        "# Find the tag with the least numerical value\n",
        "most_frequent_tag_id = most_frequent_tags.idxmin()\n",
        "\n",
        "# Print the result\n",
        "print(\"Most frequently used tag with the least numerical value (tag_id):\", most_frequent_tag_id)\n"
      ],
      "metadata": {
        "colab": {
          "base_uri": "https://localhost:8080/"
        },
        "id": "U35_Npd_2ptp",
        "outputId": "0eaa98f4-0a72-4c7f-f88d-9b3b9b131ee9"
      },
      "execution_count": 14,
      "outputs": [
        {
          "output_type": "stream",
          "name": "stdout",
          "text": [
            "Most frequently used tag with the least numerical value (tag_id): 5751\n"
          ]
        }
      ]
    },
    {
      "cell_type": "markdown",
      "source": [
        "  Q2:"
      ],
      "metadata": {
        "id": "LNdZ4pvi2_H9"
      }
    },
    {
      "cell_type": "code",
      "source": [
        "import pandas as pd\n",
        "\n",
        "# Load the dataset\n",
        "books = pd.read_csv('books.csv')\n",
        "\n",
        "# Count the number of unique books based on the 'book_id'\n",
        "unique_books_count = books['book_id'].nunique()\n",
        "\n",
        "# Print the result\n",
        "print(\"Number of unique books based on 'book_id':\", unique_books_count)\n"
      ],
      "metadata": {
        "colab": {
          "base_uri": "https://localhost:8080/"
        },
        "id": "95FTkc9L2-PP",
        "outputId": "ca8d8c7d-64ca-4b63-be07-bbaaa7d0398e"
      },
      "execution_count": 15,
      "outputs": [
        {
          "output_type": "stream",
          "name": "stdout",
          "text": [
            "Number of unique books based on 'book_id': 1305\n"
          ]
        }
      ]
    },
    {
      "cell_type": "markdown",
      "source": [
        "Q3:"
      ],
      "metadata": {
        "id": "Uje3-0Oy3-D5"
      }
    },
    {
      "cell_type": "code",
      "source": [
        "import pandas as pd\n",
        "\n",
        "# Load the dataset\n",
        "ratings = pd.read_csv('ratings.csv')\n",
        "\n",
        "# Count the number of unique users based on the 'user_id'\n",
        "unique_users_count = ratings['user_id'].nunique()\n",
        "\n",
        "# Print the result\n",
        "print(\"Number of unique users based on 'user_id':\", unique_users_count)\n"
      ],
      "metadata": {
        "colab": {
          "base_uri": "https://localhost:8080/"
        },
        "id": "sUpxaAMn39k8",
        "outputId": "16d83b78-bd0d-4d83-b158-b69cc67c40c7"
      },
      "execution_count": 16,
      "outputs": [
        {
          "output_type": "stream",
          "name": "stdout",
          "text": [
            "Number of unique users based on 'user_id': 52023\n"
          ]
        }
      ]
    },
    {
      "cell_type": "markdown",
      "source": [
        "Q10:"
      ],
      "metadata": {
        "id": "jagBf03a4Vc8"
      }
    },
    {
      "cell_type": "code",
      "source": [
        "import pandas as pd\n",
        "\n",
        "# Load the dataset\n",
        "book_tags = pd.read_csv('book_tags.csv')\n",
        "\n",
        "# Group by goodreads_book_id and calculate the sum of counts for each book\n",
        "tag_counts = book_tags.groupby('goodreads_book_id')['count'].sum()\n",
        "\n",
        "# Find the book with the minimum tag count\n",
        "min_tag_count = tag_counts.min()\n",
        "min_count_book = tag_counts[tag_counts == min_tag_count]\n",
        "\n",
        "# Print the result\n",
        "print(\"Book(s) (goodreads_book_id) with the least number of tag counts:\")\n",
        "for book_id in min_count_book.index:\n",
        "    print(\"Goodreads Book ID:\", book_id)\n"
      ],
      "metadata": {
        "colab": {
          "base_uri": "https://localhost:8080/"
        },
        "id": "Fo3pve404VCd",
        "outputId": "5784b54f-e4b9-49e8-ca7a-4e824d0b7101"
      },
      "execution_count": 18,
      "outputs": [
        {
          "output_type": "stream",
          "name": "stdout",
          "text": [
            "Book(s) (goodreads_book_id) with the least number of tag counts:\n",
            "Goodreads Book ID: 83346\n"
          ]
        }
      ]
    },
    {
      "cell_type": "markdown",
      "source": [
        "  Q12:"
      ],
      "metadata": {
        "id": "kVhCMAoA5VAB"
      }
    },
    {
      "cell_type": "code",
      "source": [
        "import pandas as pd\n",
        "\n",
        "# Load the dataset\n",
        "books = pd.read_csv('books.csv')\n",
        "\n",
        "# Calculate the mean value of ratings based on the 'average_rating' column\n",
        "mean_rating = books['average_rating'].mean()\n",
        "\n",
        "# Print the result\n",
        "print(\"Mean value of rating of all books based on 'average_rating':\", mean_rating)\n"
      ],
      "metadata": {
        "colab": {
          "base_uri": "https://localhost:8080/"
        },
        "id": "QAA01hbz5UW1",
        "outputId": "1b85a168-d0d1-4945-d59e-9ffbd6f68d9d"
      },
      "execution_count": 19,
      "outputs": [
        {
          "output_type": "stream",
          "name": "stdout",
          "text": [
            "Mean value of rating of all books based on 'average_rating': 3.9446896551724135\n"
          ]
        }
      ]
    },
    {
      "cell_type": "code",
      "source": [
        "Q14:"
      ],
      "metadata": {
        "id": "ZZkY-JU_5vD7"
      },
      "execution_count": null,
      "outputs": []
    },
    {
      "cell_type": "code",
      "source": [
        "import pandas as pd\n",
        "from textblob import TextBlob\n",
        "\n",
        "# Load the dataset\n",
        "books = pd.read_csv('books.csv')\n",
        "\n",
        "# Drop rows with null values in the 'original_title' column\n",
        "books = books.dropna(subset=['original_title'])\n",
        "\n",
        "# Function to get sentiment polarity using TextBlob\n",
        "def get_sentiment_polarity(text):\n",
        "    blob = TextBlob(text)\n",
        "    return blob.sentiment.polarity\n",
        "\n",
        "# Apply the function to the 'original_title' column\n",
        "books['sentiment_polarity'] = books['original_title'].apply(get_sentiment_polarity)\n",
        "\n",
        "# Count the number of positive titles with sentiment polarity >= 0\n",
        "positive_titles_count = (books['sentiment_polarity'] >= 0).sum()\n",
        "\n",
        "# Print the result\n",
        "print(\"Number of positive titles with sentiment polarity >= 0 (after dropping null values):\", positive_titles_count)\n"
      ],
      "metadata": {
        "colab": {
          "base_uri": "https://localhost:8080/"
        },
        "id": "1zlEZ_yY5s0c",
        "outputId": "8e3a6ea8-5069-477d-b861-28f904d715b2"
      },
      "execution_count": 24,
      "outputs": [
        {
          "output_type": "stream",
          "name": "stdout",
          "text": [
            "Number of positive titles with sentiment polarity >= 0 (after dropping null values): 1150\n"
          ]
        }
      ]
    }
  ]
}