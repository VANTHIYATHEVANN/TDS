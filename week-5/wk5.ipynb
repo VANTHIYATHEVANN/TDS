{
  "nbformat": 4,
  "nbformat_minor": 0,
  "metadata": {
    "colab": {
      "provenance": []
    },
    "kernelspec": {
      "name": "python3",
      "display_name": "Python 3"
    },
    "language_info": {
      "name": "python"
    }
  },
  "cells": [
    {
      "cell_type": "code",
      "source": [
        "import pandas as pd\n",
        "import numpy as np\n",
        "from sklearn.preprocessing import OrdinalEncoder, LabelEncoder\n",
        "from sklearn.preprocessing import MinMaxScaler\n",
        "from imblearn.over_sampling import SMOTE, BorderlineSMOTE, ADASYN\n",
        "from sklearn.model_selection import train_test_split\n",
        "from sklearn.tree import DecisionTreeClassifier\n",
        "import matplotlib.pyplot as plt\n",
        "import seaborn as sns\n",
        "from sklearn.metrics import accuracy_score, confusion_matrix\n",
        "from sklearn.tree import export_graphviz\n",
        "#from sklearn.externals.six import StringIO\n",
        "import pydotplus\n",
        "from sklearn.metrics import classification_report\n",
        "from google.colab import files\n",
        "import os"
      ],
      "metadata": {
        "id": "WW8NT15gy0lz"
      },
      "execution_count": 6,
      "outputs": []
    },
    {
      "cell_type": "code",
      "source": [
        "import pandas as pd"
      ],
      "metadata": {
        "id": "JmRpYyjCysmJ"
      },
      "execution_count": null,
      "outputs": []
    },
    {
      "cell_type": "code",
      "source": [
        "from google.colab import drive\n",
        "drive.mount('/content/drive')\n",
        "#!ls \"/content/drive/My Drive/\""
      ],
      "metadata": {
        "colab": {
          "base_uri": "https://localhost:8080/"
        },
        "id": "kG_5dl5pzpK-",
        "outputId": "e0181f46-a42f-4c5e-a1d9-b0825707003f"
      },
      "execution_count": 5,
      "outputs": [
        {
          "output_type": "stream",
          "name": "stdout",
          "text": [
            "Mounted at /content/drive\n"
          ]
        }
      ]
    },
    {
      "cell_type": "code",
      "source": [
        "os.chdir(\"/content/drive/MyDrive/DATA/TDS\")\n",
        "!ls"
      ],
      "metadata": {
        "colab": {
          "base_uri": "https://localhost:8080/"
        },
        "id": "cTtIA8TEz5oy",
        "outputId": "0d4ff693-7d52-49d5-f788-369c06f79721"
      },
      "execution_count": 12,
      "outputs": [
        {
          "output_type": "stream",
          "name": "stdout",
          "text": [
            "'TDS_Week_5_Dataset_1 - Sheet1.csv'  'TDS_Week_5_Dataset_2 - Sheet1.csv'\n",
            " TDS_Week_5_Dataset_1.xlsx\n"
          ]
        }
      ]
    },
    {
      "cell_type": "code",
      "source": [
        "df=pd.read_csv(\"TDS_Week_5_Dataset_1 - Sheet1.csv\")"
      ],
      "metadata": {
        "id": "JJuivfqTzRBw"
      },
      "execution_count": 8,
      "outputs": []
    },
    {
      "cell_type": "code",
      "source": [
        "df.shape"
      ],
      "metadata": {
        "colab": {
          "base_uri": "https://localhost:8080/"
        },
        "id": "_75x4QOFziSz",
        "outputId": "46906c5c-b391-4b7e-d185-b8425192d5f3"
      },
      "execution_count": 9,
      "outputs": [
        {
          "output_type": "execute_result",
          "data": {
            "text/plain": [
              "(10000, 9)"
            ]
          },
          "metadata": {},
          "execution_count": 9
        }
      ]
    },
    {
      "cell_type": "code",
      "source": [
        "df.head()"
      ],
      "metadata": {
        "id": "LE-diKb5zm5n"
      },
      "execution_count": null,
      "outputs": []
    },
    {
      "cell_type": "code",
      "execution_count": 10,
      "metadata": {
        "id": "7SbsCdRlyiTZ"
      },
      "outputs": [],
      "source": [
        "q_hi = df['Rotational speed [rpm]'].quantile(0.75)\n",
        "q_low = df['Rotational speed [rpm]'].quantile(0.25)\n",
        "IQR = q_hi - q_low\n",
        "lower_range = q_low - (1.5 * IQR)\n",
        "upper_range = q_hi + (1.5 * IQR)\n",
        "df= df[(df['Rotational speed [rpm]']>lower_range) & (df['Rotational speed [rpm]']<upper_range)]"
      ]
    },
    {
      "cell_type": "code",
      "source": [
        "df.shape"
      ],
      "metadata": {
        "colab": {
          "base_uri": "https://localhost:8080/"
        },
        "id": "qnG77v5H0QrD",
        "outputId": "9075af51-fb74-4902-b52c-41252b834a97"
      },
      "execution_count": 11,
      "outputs": [
        {
          "output_type": "execute_result",
          "data": {
            "text/plain": [
              "(9582, 9)"
            ]
          },
          "metadata": {},
          "execution_count": 11
        }
      ]
    },
    {
      "cell_type": "code",
      "source": [
        "dfc=pd.read_csv(\"TDS_Week_5_Dataset_2 - Sheet1.csv\")"
      ],
      "metadata": {
        "id": "Op7AvJsV0lNr"
      },
      "execution_count": 37,
      "outputs": []
    },
    {
      "cell_type": "code",
      "source": [
        "from sklearn.cluster import KMeans"
      ],
      "metadata": {
        "id": "GLIvArHa01RH"
      },
      "execution_count": 14,
      "outputs": []
    },
    {
      "cell_type": "code",
      "source": [
        "dfc.head()"
      ],
      "metadata": {
        "colab": {
          "base_uri": "https://localhost:8080/",
          "height": 206
        },
        "id": "u6seV4az07ma",
        "outputId": "262a8f12-529f-415c-e318-0f526d915a1b"
      },
      "execution_count": 15,
      "outputs": [
        {
          "output_type": "execute_result",
          "data": {
            "text/plain": [
              "   record number     Price  Market Cap  Free Float Market Cap %    6m ADV  \\\n",
              "0              0  0.001319    0.001970                 0.826221  0.021519   \n",
              "1              1  0.000769    0.000579                 0.441647  0.003081   \n",
              "2              2  0.000132    0.000316                 0.655003  0.000778   \n",
              "3              3  0.000824    0.007208                 0.000533  0.000252   \n",
              "4              4  0.000596    0.000358                 0.805526  0.003378   \n",
              "\n",
              "      RoE %    RoCE %  EBIT Margin %       EPS  PAT %  Stock Return %  \n",
              "0  0.000000  0.476845       0.038117  0.000701    0.0        0.268651  \n",
              "1  0.000000  0.232072       0.000000  0.025832    0.0        0.190937  \n",
              "2  0.065568  0.000000       0.000000  0.001083    0.0        0.122265  \n",
              "3  0.408417  0.416031       0.000000  0.000918    0.0        0.100503  \n",
              "4  0.116626  0.474160       0.067420  0.029651    0.0        0.050376  "
            ],
            "text/html": [
              "\n",
              "\n",
              "  <div id=\"df-b64f5447-e5fd-4903-84db-54313c0f64ba\">\n",
              "    <div class=\"colab-df-container\">\n",
              "      <div>\n",
              "<style scoped>\n",
              "    .dataframe tbody tr th:only-of-type {\n",
              "        vertical-align: middle;\n",
              "    }\n",
              "\n",
              "    .dataframe tbody tr th {\n",
              "        vertical-align: top;\n",
              "    }\n",
              "\n",
              "    .dataframe thead th {\n",
              "        text-align: right;\n",
              "    }\n",
              "</style>\n",
              "<table border=\"1\" class=\"dataframe\">\n",
              "  <thead>\n",
              "    <tr style=\"text-align: right;\">\n",
              "      <th></th>\n",
              "      <th>record number</th>\n",
              "      <th>Price</th>\n",
              "      <th>Market Cap</th>\n",
              "      <th>Free Float Market Cap %</th>\n",
              "      <th>6m ADV</th>\n",
              "      <th>RoE %</th>\n",
              "      <th>RoCE %</th>\n",
              "      <th>EBIT Margin %</th>\n",
              "      <th>EPS</th>\n",
              "      <th>PAT %</th>\n",
              "      <th>Stock Return %</th>\n",
              "    </tr>\n",
              "  </thead>\n",
              "  <tbody>\n",
              "    <tr>\n",
              "      <th>0</th>\n",
              "      <td>0</td>\n",
              "      <td>0.001319</td>\n",
              "      <td>0.001970</td>\n",
              "      <td>0.826221</td>\n",
              "      <td>0.021519</td>\n",
              "      <td>0.000000</td>\n",
              "      <td>0.476845</td>\n",
              "      <td>0.038117</td>\n",
              "      <td>0.000701</td>\n",
              "      <td>0.0</td>\n",
              "      <td>0.268651</td>\n",
              "    </tr>\n",
              "    <tr>\n",
              "      <th>1</th>\n",
              "      <td>1</td>\n",
              "      <td>0.000769</td>\n",
              "      <td>0.000579</td>\n",
              "      <td>0.441647</td>\n",
              "      <td>0.003081</td>\n",
              "      <td>0.000000</td>\n",
              "      <td>0.232072</td>\n",
              "      <td>0.000000</td>\n",
              "      <td>0.025832</td>\n",
              "      <td>0.0</td>\n",
              "      <td>0.190937</td>\n",
              "    </tr>\n",
              "    <tr>\n",
              "      <th>2</th>\n",
              "      <td>2</td>\n",
              "      <td>0.000132</td>\n",
              "      <td>0.000316</td>\n",
              "      <td>0.655003</td>\n",
              "      <td>0.000778</td>\n",
              "      <td>0.065568</td>\n",
              "      <td>0.000000</td>\n",
              "      <td>0.000000</td>\n",
              "      <td>0.001083</td>\n",
              "      <td>0.0</td>\n",
              "      <td>0.122265</td>\n",
              "    </tr>\n",
              "    <tr>\n",
              "      <th>3</th>\n",
              "      <td>3</td>\n",
              "      <td>0.000824</td>\n",
              "      <td>0.007208</td>\n",
              "      <td>0.000533</td>\n",
              "      <td>0.000252</td>\n",
              "      <td>0.408417</td>\n",
              "      <td>0.416031</td>\n",
              "      <td>0.000000</td>\n",
              "      <td>0.000918</td>\n",
              "      <td>0.0</td>\n",
              "      <td>0.100503</td>\n",
              "    </tr>\n",
              "    <tr>\n",
              "      <th>4</th>\n",
              "      <td>4</td>\n",
              "      <td>0.000596</td>\n",
              "      <td>0.000358</td>\n",
              "      <td>0.805526</td>\n",
              "      <td>0.003378</td>\n",
              "      <td>0.116626</td>\n",
              "      <td>0.474160</td>\n",
              "      <td>0.067420</td>\n",
              "      <td>0.029651</td>\n",
              "      <td>0.0</td>\n",
              "      <td>0.050376</td>\n",
              "    </tr>\n",
              "  </tbody>\n",
              "</table>\n",
              "</div>\n",
              "      <button class=\"colab-df-convert\" onclick=\"convertToInteractive('df-b64f5447-e5fd-4903-84db-54313c0f64ba')\"\n",
              "              title=\"Convert this dataframe to an interactive table.\"\n",
              "              style=\"display:none;\">\n",
              "\n",
              "  <svg xmlns=\"http://www.w3.org/2000/svg\" height=\"24px\"viewBox=\"0 0 24 24\"\n",
              "       width=\"24px\">\n",
              "    <path d=\"M0 0h24v24H0V0z\" fill=\"none\"/>\n",
              "    <path d=\"M18.56 5.44l.94 2.06.94-2.06 2.06-.94-2.06-.94-.94-2.06-.94 2.06-2.06.94zm-11 1L8.5 8.5l.94-2.06 2.06-.94-2.06-.94L8.5 2.5l-.94 2.06-2.06.94zm10 10l.94 2.06.94-2.06 2.06-.94-2.06-.94-.94-2.06-.94 2.06-2.06.94z\"/><path d=\"M17.41 7.96l-1.37-1.37c-.4-.4-.92-.59-1.43-.59-.52 0-1.04.2-1.43.59L10.3 9.45l-7.72 7.72c-.78.78-.78 2.05 0 2.83L4 21.41c.39.39.9.59 1.41.59.51 0 1.02-.2 1.41-.59l7.78-7.78 2.81-2.81c.8-.78.8-2.07 0-2.86zM5.41 20L4 18.59l7.72-7.72 1.47 1.35L5.41 20z\"/>\n",
              "  </svg>\n",
              "      </button>\n",
              "\n",
              "\n",
              "\n",
              "    <div id=\"df-f75f7964-eac6-444c-938d-a8786b07f3df\">\n",
              "      <button class=\"colab-df-quickchart\" onclick=\"quickchart('df-f75f7964-eac6-444c-938d-a8786b07f3df')\"\n",
              "              title=\"Suggest charts.\"\n",
              "              style=\"display:none;\">\n",
              "\n",
              "<svg xmlns=\"http://www.w3.org/2000/svg\" height=\"24px\"viewBox=\"0 0 24 24\"\n",
              "     width=\"24px\">\n",
              "    <g>\n",
              "        <path d=\"M19 3H5c-1.1 0-2 .9-2 2v14c0 1.1.9 2 2 2h14c1.1 0 2-.9 2-2V5c0-1.1-.9-2-2-2zM9 17H7v-7h2v7zm4 0h-2V7h2v10zm4 0h-2v-4h2v4z\"/>\n",
              "    </g>\n",
              "</svg>\n",
              "      </button>\n",
              "    </div>\n",
              "\n",
              "<style>\n",
              "  .colab-df-quickchart {\n",
              "    background-color: #E8F0FE;\n",
              "    border: none;\n",
              "    border-radius: 50%;\n",
              "    cursor: pointer;\n",
              "    display: none;\n",
              "    fill: #1967D2;\n",
              "    height: 32px;\n",
              "    padding: 0 0 0 0;\n",
              "    width: 32px;\n",
              "  }\n",
              "\n",
              "  .colab-df-quickchart:hover {\n",
              "    background-color: #E2EBFA;\n",
              "    box-shadow: 0px 1px 2px rgba(60, 64, 67, 0.3), 0px 1px 3px 1px rgba(60, 64, 67, 0.15);\n",
              "    fill: #174EA6;\n",
              "  }\n",
              "\n",
              "  [theme=dark] .colab-df-quickchart {\n",
              "    background-color: #3B4455;\n",
              "    fill: #D2E3FC;\n",
              "  }\n",
              "\n",
              "  [theme=dark] .colab-df-quickchart:hover {\n",
              "    background-color: #434B5C;\n",
              "    box-shadow: 0px 1px 3px 1px rgba(0, 0, 0, 0.15);\n",
              "    filter: drop-shadow(0px 1px 2px rgba(0, 0, 0, 0.3));\n",
              "    fill: #FFFFFF;\n",
              "  }\n",
              "</style>\n",
              "\n",
              "    <script>\n",
              "      async function quickchart(key) {\n",
              "        const containerElement = document.querySelector('#' + key);\n",
              "        const charts = await google.colab.kernel.invokeFunction(\n",
              "            'suggestCharts', [key], {});\n",
              "      }\n",
              "    </script>\n",
              "\n",
              "      <script>\n",
              "\n",
              "function displayQuickchartButton(domScope) {\n",
              "  let quickchartButtonEl =\n",
              "    domScope.querySelector('#df-f75f7964-eac6-444c-938d-a8786b07f3df button.colab-df-quickchart');\n",
              "  quickchartButtonEl.style.display =\n",
              "    google.colab.kernel.accessAllowed ? 'block' : 'none';\n",
              "}\n",
              "\n",
              "        displayQuickchartButton(document);\n",
              "      </script>\n",
              "      <style>\n",
              "    .colab-df-container {\n",
              "      display:flex;\n",
              "      flex-wrap:wrap;\n",
              "      gap: 12px;\n",
              "    }\n",
              "\n",
              "    .colab-df-convert {\n",
              "      background-color: #E8F0FE;\n",
              "      border: none;\n",
              "      border-radius: 50%;\n",
              "      cursor: pointer;\n",
              "      display: none;\n",
              "      fill: #1967D2;\n",
              "      height: 32px;\n",
              "      padding: 0 0 0 0;\n",
              "      width: 32px;\n",
              "    }\n",
              "\n",
              "    .colab-df-convert:hover {\n",
              "      background-color: #E2EBFA;\n",
              "      box-shadow: 0px 1px 2px rgba(60, 64, 67, 0.3), 0px 1px 3px 1px rgba(60, 64, 67, 0.15);\n",
              "      fill: #174EA6;\n",
              "    }\n",
              "\n",
              "    [theme=dark] .colab-df-convert {\n",
              "      background-color: #3B4455;\n",
              "      fill: #D2E3FC;\n",
              "    }\n",
              "\n",
              "    [theme=dark] .colab-df-convert:hover {\n",
              "      background-color: #434B5C;\n",
              "      box-shadow: 0px 1px 3px 1px rgba(0, 0, 0, 0.15);\n",
              "      filter: drop-shadow(0px 1px 2px rgba(0, 0, 0, 0.3));\n",
              "      fill: #FFFFFF;\n",
              "    }\n",
              "  </style>\n",
              "\n",
              "      <script>\n",
              "        const buttonEl =\n",
              "          document.querySelector('#df-b64f5447-e5fd-4903-84db-54313c0f64ba button.colab-df-convert');\n",
              "        buttonEl.style.display =\n",
              "          google.colab.kernel.accessAllowed ? 'block' : 'none';\n",
              "\n",
              "        async function convertToInteractive(key) {\n",
              "          const element = document.querySelector('#df-b64f5447-e5fd-4903-84db-54313c0f64ba');\n",
              "          const dataTable =\n",
              "            await google.colab.kernel.invokeFunction('convertToInteractive',\n",
              "                                                     [key], {});\n",
              "          if (!dataTable) return;\n",
              "\n",
              "          const docLinkHtml = 'Like what you see? Visit the ' +\n",
              "            '<a target=\"_blank\" href=https://colab.research.google.com/notebooks/data_table.ipynb>data table notebook</a>'\n",
              "            + ' to learn more about interactive tables.';\n",
              "          element.innerHTML = '';\n",
              "          dataTable['output_type'] = 'display_data';\n",
              "          await google.colab.output.renderOutput(dataTable, element);\n",
              "          const docLink = document.createElement('div');\n",
              "          docLink.innerHTML = docLinkHtml;\n",
              "          element.appendChild(docLink);\n",
              "        }\n",
              "      </script>\n",
              "    </div>\n",
              "  </div>\n"
            ]
          },
          "metadata": {},
          "execution_count": 15
        }
      ]
    },
    {
      "cell_type": "code",
      "source": [
        "features =dfc.columns[1:]\n",
        "features"
      ],
      "metadata": {
        "colab": {
          "base_uri": "https://localhost:8080/"
        },
        "id": "2NLF8U-Z1BKP",
        "outputId": "e63f9ca2-2017-4c0c-be86-ab6ccb3539fa"
      },
      "execution_count": 27,
      "outputs": [
        {
          "output_type": "execute_result",
          "data": {
            "text/plain": [
              "Index(['Price', 'Market Cap', 'Free Float Market Cap %', '6m ADV', 'RoE %',\n",
              "       'RoCE %', 'EBIT Margin %', 'EPS', 'PAT %', 'Stock Return %'],\n",
              "      dtype='object')"
            ]
          },
          "metadata": {},
          "execution_count": 27
        }
      ]
    },
    {
      "cell_type": "code",
      "source": [
        "import numpy as np\n",
        "import pandas as pd\n",
        "from sklearn.cluster import KMeans\n",
        "dfc = dfc.drop('record number', axis=1)\n",
        "seed = 1729\n",
        "np.random.seed(seed)\n",
        "n_clusters = 7\n",
        "kmeans = KMeans(n_clusters=n_clusters, random_state=seed)\n",
        "kmeans.fit(dfc)\n",
        "cluster_assignments = kmeans.labels_\n",
        "dfc['cluster'] = cluster_assignments\n",
        "record_index_1 = 247\n",
        "record_index_2 = 68\n",
        "lis=[(546,208),(211,159),(247,294),(247,68)]\n",
        "for i in lis:\n",
        "  cluster_1 = dfc.loc[dfc.index[i[0]], 'cluster']\n",
        "  cluster_2 = dfc.loc[dfc.index[i[1]], 'cluster']\n",
        "  print(\"Record 1:\",i[0],\"   Record 2:\",i[1])\n",
        "  if cluster_1 == cluster_2:\n",
        "      print(\"The pair of records belong to the same cluster.\")\n",
        "  else:\n",
        "      print(\"The pair of records belong to different clusters.\")"
      ],
      "metadata": {
        "colab": {
          "base_uri": "https://localhost:8080/"
        },
        "id": "OnkQsIcv1IS3",
        "outputId": "253f45ae-64f3-477b-8124-aec00b5b5a1c"
      },
      "execution_count": 38,
      "outputs": [
        {
          "output_type": "stream",
          "name": "stderr",
          "text": [
            "/usr/local/lib/python3.10/dist-packages/sklearn/cluster/_kmeans.py:870: FutureWarning: The default value of `n_init` will change from 10 to 'auto' in 1.4. Set the value of `n_init` explicitly to suppress the warning\n",
            "  warnings.warn(\n"
          ]
        },
        {
          "output_type": "stream",
          "name": "stdout",
          "text": [
            "Record 1: 546    Record 2: 208\n",
            "The pair of records belong to the same cluster.\n",
            "Record 1: 211    Record 2: 159\n",
            "The pair of records belong to different clusters.\n",
            "Record 1: 247    Record 2: 294\n",
            "The pair of records belong to different clusters.\n",
            "Record 1: 247    Record 2: 68\n",
            "The pair of records belong to different clusters.\n"
          ]
        }
      ]
    },
    {
      "cell_type": "code",
      "source": [
        "fdf=dfc[features]"
      ],
      "metadata": {
        "id": "zbVXX9E91SzE"
      },
      "execution_count": 22,
      "outputs": []
    },
    {
      "cell_type": "code",
      "source": [
        "clus = kmeans.fit_predict()"
      ],
      "metadata": {
        "id": "UItc5p2-1KZX"
      },
      "execution_count": null,
      "outputs": []
    },
    {
      "cell_type": "code",
      "source": [
        "dfc['cluster'] = clus\n",
        "dfc['cluster'].value_counts()"
      ],
      "metadata": {
        "id": "oZXml90B1eTy"
      },
      "execution_count": null,
      "outputs": []
    },
    {
      "cell_type": "code",
      "source": [
        "clusterDesc = pd.DataFrame(dfc.iloc[:,1:].groupby('cluster').mean().round(3))\n",
        "clusterDesc.insert(0,'size',dfc['cluster'].value_counts())"
      ],
      "metadata": {
        "id": "ncvbhKPl1ka3"
      },
      "execution_count": null,
      "outputs": []
    }
  ]
}